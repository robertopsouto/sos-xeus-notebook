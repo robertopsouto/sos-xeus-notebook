{
 "cells": [
  {
   "cell_type": "markdown",
   "metadata": {
    "kernel": "SoS"
   },
   "source": [
    "## Instala primeiro o pacote sos-xeus-cling\n",
    "#### Solução provisória para o binder, até conseguir criar imagem já com este pacote instalado"
   ]
  },
  {
   "cell_type": "code",
   "execution_count": null,
   "metadata": {
    "kernel": "SoS"
   },
   "outputs": [],
   "source": [
    "!pip install sos-xeus-cling"
   ]
  },
  {
   "cell_type": "markdown",
   "metadata": {
    "kernel": "SoS"
   },
   "source": [
    "### Depois de executar a célula acima, reiniciar o *kernel* SoS, e executar as demais células"
   ]
  },
  {
   "cell_type": "code",
   "execution_count": 1,
   "metadata": {
    "kernel": "C++14"
   },
   "outputs": [],
   "source": [
    "#include <iostream>\n",
    "using namespace std; "
   ]
  },
  {
   "cell_type": "code",
   "execution_count": 2,
   "metadata": {
    "kernel": "C++14"
   },
   "outputs": [],
   "source": [
    "int scalar_product(int *v1, int *v2, int size)\n",
    "{\n",
    "    int sum = 0;\n",
    "    for (int i = 0; i < size; ++i)\n",
    "      sum += v1[i] * v2[i];\n",
    "    return sum;\n",
    "}"
   ]
  },
  {
   "cell_type": "code",
   "execution_count": 3,
   "metadata": {
    "kernel": "C++14"
   },
   "outputs": [],
   "source": [
    "int n = 10;\n",
    "int v1[10], v2[10];"
   ]
  },
  {
   "cell_type": "code",
   "execution_count": 4,
   "metadata": {
    "kernel": "C++14"
   },
   "outputs": [
    {
     "name": "stdout",
     "output_type": "stream",
     "text": [
      "Results 165\n"
     ]
    }
   ],
   "source": [
    "for (int i = 0; i < n; ++i) {\n",
    "    v1[i] = i;\n",
    "    v2[i] = n-i;\n",
    "}\n",
    " \n",
    "int res = scalar_product(v1, v2, n);\n",
    "cout << \"Results \" << scalar_product(v1, v2, n) << endl;"
   ]
  },
  {
   "cell_type": "markdown",
   "metadata": {
    "kernel": "C++14"
   },
   "source": [
    "### Copia o valor da variável `res` obtido no kernel `C++14` para o kernel `SoS`"
   ]
  },
  {
   "cell_type": "code",
   "execution_count": 5,
   "metadata": {
    "kernel": "C++14"
   },
   "outputs": [],
   "source": [
    "%put res"
   ]
  },
  {
   "cell_type": "markdown",
   "metadata": {
    "kernel": "C++14"
   },
   "source": [
    "### Verifica se a cópia foi bem-sucedida"
   ]
  },
  {
   "cell_type": "code",
   "execution_count": null,
   "metadata": {
    "kernel": "SoS"
   },
   "outputs": [],
   "source": [
    "res"
   ]
  }
 ],
 "metadata": {
  "kernelspec": {
   "display_name": "SoS",
   "language": "sos",
   "name": "sos"
  },
  "language_info": {
   "codemirror_mode": "sos",
   "file_extension": ".sos",
   "mimetype": "text/x-sos",
   "name": "sos",
   "nbconvert_exporter": "sos_notebook.converter.SoS_Exporter",
   "pygments_lexer": "sos"
  },
  "sos": {
   "kernels": [
    [
     "C++14",
     "xcpp14",
     "C++14",
     "",
     "text/x-c++src"
    ],
    [
     "SoS",
     "sos",
     "",
     "",
     "sos"
    ]
   ],
   "panel": {
    "displayed": true,
    "height": 0
   },
   "version": "0.22.2"
  }
 },
 "nbformat": 4,
 "nbformat_minor": 4
}
