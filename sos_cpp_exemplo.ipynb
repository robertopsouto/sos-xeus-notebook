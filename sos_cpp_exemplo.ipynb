{
 "cells": [
  {
   "cell_type": "code",
   "execution_count": 1,
   "metadata": {
    "kernel": "C++14"
   },
   "outputs": [],
   "source": [
    "#include <iostream>\n",
    "using namespace std; "
   ]
  },
  {
   "cell_type": "code",
   "execution_count": 5,
   "metadata": {
    "kernel": "C++14"
   },
   "outputs": [],
   "source": [
    "int scalar_product(int *v1, int *v2, int size)\n",
    "{\n",
    "    int sum = 0;\n",
    "    for (int i = 0; i < size; ++i)\n",
    "      sum += v1[i] * v2[i];\n",
    "    return sum;\n",
    "}"
   ]
  },
  {
   "cell_type": "code",
   "execution_count": 8,
   "metadata": {
    "kernel": "C++14"
   },
   "outputs": [],
   "source": [
    "int n = 10;\n",
    "int v1[10], v2[10];"
   ]
  },
  {
   "cell_type": "code",
   "execution_count": 9,
   "metadata": {
    "kernel": "C++14"
   },
   "outputs": [
    {
     "name": "stdout",
     "output_type": "stream",
     "text": [
      "Results 165\n"
     ]
    }
   ],
   "source": [
    "for (int i = 0; i < n; ++i) {\n",
    "    v1[i] = i;\n",
    "    v2[i] = n-i;\n",
    "}\n",
    " \n",
    "int res = scalar_product(v1, v2, n);\n",
    "cout << \"Results \" << scalar_product(v1, v2, n) << endl;"
   ]
  },
  {
   "cell_type": "code",
   "execution_count": 10,
   "metadata": {
    "kernel": "C++14"
   },
   "outputs": [],
   "source": [
    "%put res"
   ]
  },
  {
   "cell_type": "code",
   "execution_count": 11,
   "metadata": {
    "kernel": "SoS"
   },
   "outputs": [
    {
     "data": {
      "text/plain": [
       "165"
      ]
     },
     "execution_count": 11,
     "metadata": {},
     "output_type": "execute_result"
    }
   ],
   "source": [
    "res"
   ]
  }
 ],
 "metadata": {
  "kernelspec": {
   "display_name": "SoS",
   "language": "sos",
   "name": "sos"
  },
  "language_info": {
   "codemirror_mode": "sos",
   "file_extension": ".sos",
   "mimetype": "text/x-sos",
   "name": "sos",
   "nbconvert_exporter": "sos_notebook.converter.SoS_Exporter",
   "pygments_lexer": "sos"
  },
  "sos": {
   "kernels": [
    [
     "C++14",
     "xcpp14",
     "C++14",
     "",
     "text/x-c++src"
    ],
    [
     "SoS",
     "sos",
     "",
     "",
     "sos"
    ]
   ],
   "panel": {
    "displayed": true,
    "height": 0
   },
   "version": "0.22.2"
  }
 },
 "nbformat": 4,
 "nbformat_minor": 4
}
